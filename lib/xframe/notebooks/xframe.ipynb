{
 "cells": [
  {
   "cell_type": "markdown",
   "metadata": {},
   "source": [
    "![xframe](images/xframe.png)"
   ]
  },
  {
   "cell_type": "markdown",
   "metadata": {},
   "source": [
    "<center> <h1>xframe is a dataframe for C++, based on xtensor and xtl</h1> </center>"
   ]
  },
  {
   "cell_type": "code",
   "execution_count": null,
   "metadata": {},
   "outputs": [],
   "source": [
    "#include <string>\n",
    "#include <iostream>\n",
    "\n",
    "#include \"xtensor/xrandom.hpp\"\n",
    "#include \"xtensor/xmath.hpp\"\n",
    "\n",
    "#include \"xframe/xio.hpp\"\n",
    "#include \"xframe/xvariable.hpp\"\n",
    "#include \"xframe/xvariable_view.hpp\"\n",
    "#include \"xframe/xvariable_masked_view.hpp\"\n",
    "#include \"xframe/xreindex_view.hpp\""
   ]
  },
  {
   "cell_type": "markdown",
   "metadata": {},
   "source": [
    "Let's first define some useful type aliases so we can reduce the amount of typing"
   ]
  },
  {
   "cell_type": "code",
   "execution_count": null,
   "metadata": {},
   "outputs": [],
   "source": [
    "using coordinate_type = xf::xcoordinate<xf::fstring>;\n",
    "using variable_type = xf::xvariable<double, coordinate_type>;\n",
    "using data_type = variable_type::data_type;"
   ]
  },
  {
   "cell_type": "markdown",
   "metadata": {},
   "source": [
    "# 1. Variables"
   ]
  },
  {
   "cell_type": "markdown",
   "metadata": {},
   "source": [
    "## 1.1. Creating variable\n",
    "\n",
    "In the following we define a 2D variable called `dry_temperature`. A variable in `xframe` is the composition of a tensor data and a coordinate system. It is the equivalent of `DataArray` from <a href=http://xarray.pydata.org/en/stable/data-structures.html>xarray</a>. The tensor data can be any valid `xtensor` expression whose `value_type` is `xoptional`. Common types are `xarray_optional`, `xtensor_optional` and `xoptional_assembly`, which allows to create an optional expression from existing regular tensor expressions."
   ]
  },
  {
   "cell_type": "markdown",
   "metadata": {},
   "source": [
    "![xframe_summary](images/xframe_summary.png)"
   ]
  },
  {
   "cell_type": "code",
   "execution_count": null,
   "metadata": {},
   "outputs": [],
   "source": [
    "data_type dry_temperature_data = xt::eval(xt::random::rand({6, 3}, 15., 25.));\n",
    "dry_temperature_data(0, 0).has_value() = false;\n",
    "dry_temperature_data(2, 1).has_value() = false;"
   ]
  },
  {
   "cell_type": "code",
   "execution_count": null,
   "metadata": {},
   "outputs": [],
   "source": [
    "dry_temperature_data"
   ]
  },
  {
   "cell_type": "markdown",
   "metadata": {},
   "source": [
    "Once the data is defined, we can define the coordinate system. A coordinate system is a mapping of dimension names with label axes. Although it is possible to create an axe from a vector of labels, then the coordinate system from a map containing axes and dimension names, and finally the variable from this coordinate system and the previously created data, `xframe` makes use of the initialize-list syntax so everything can be created in place with a very expressive syntax:"
   ]
  },
  {
   "cell_type": "code",
   "execution_count": null,
   "metadata": {},
   "outputs": [],
   "source": [
    "auto time_axis = xf::axis({\"2018-01-01\", \"2018-01-02\", \"2018-01-03\", \"2018-01-04\", \"2018-01-05\", \"2018-01-06\"});"
   ]
  },
  {
   "cell_type": "code",
   "execution_count": null,
   "metadata": {},
   "outputs": [],
   "source": [
    "auto dry_temperature = variable_type(\n",
    "    dry_temperature_data,\n",
    "    {\n",
    "        {\"date\", time_axis},\n",
    "        {\"city\", xf::axis({\"London\", \"Paris\", \"Brussels\"})}\n",
    "    }\n",
    ");"
   ]
  },
  {
   "cell_type": "code",
   "execution_count": null,
   "metadata": {},
   "outputs": [],
   "source": [
    "dry_temperature"
   ]
  },
  {
   "cell_type": "markdown",
   "metadata": {},
   "source": [
    "## 1.2. Indexing and selecting data\n",
    "\n",
    "Like <a href=http://xarray.pydata.org/en/stable/indexing.html>xarray</a>, `xframe` supports four different kinds of indexing as described below:"
   ]
  },
  {
   "cell_type": "markdown",
   "metadata": {},
   "source": [
    "**Dimension lookup:** Positional - **Index lookup:** By integer"
   ]
  },
  {
   "cell_type": "code",
   "execution_count": null,
   "metadata": {},
   "outputs": [],
   "source": [
    "dry_temperature(3, 0)"
   ]
  },
  {
   "cell_type": "markdown",
   "metadata": {},
   "source": [
    "**Dimension lookup:** Positional - **Index lookup:** By label"
   ]
  },
  {
   "cell_type": "code",
   "execution_count": null,
   "metadata": {},
   "outputs": [],
   "source": [
    "dry_temperature.locate(\"2018-01-04\", \"London\")"
   ]
  },
  {
   "cell_type": "markdown",
   "metadata": {},
   "source": [
    "**Dimension lookup:** By name - **Index lookup:** By integer"
   ]
  },
  {
   "cell_type": "code",
   "execution_count": null,
   "metadata": {},
   "outputs": [],
   "source": [
    "dry_temperature.iselect({{\"date\", 3}, {\"city\", 0}})"
   ]
  },
  {
   "cell_type": "markdown",
   "metadata": {},
   "source": [
    "**Dimension lookup:** By name - **Index lookup:** By label"
   ]
  },
  {
   "cell_type": "code",
   "execution_count": null,
   "metadata": {
    "scrolled": true
   },
   "outputs": [],
   "source": [
    "dry_temperature.select({{\"date\", \"2018-01-04\"}, {\"city\", \"London\"}})"
   ]
  },
  {
   "cell_type": "markdown",
   "metadata": {},
   "source": [
    "Contrary to <a href=http://xarray.pydata.org/en/stable/indexing.html>xarray</a>, these methods return a single value, they do not allow to create views of the variable by selecting many data points. This feature is possible with `xframe` though, by using the free function counterparts of the methods described above, and will be covered in a next section."
   ]
  },
  {
   "cell_type": "markdown",
   "metadata": {},
   "source": [
    "## 1.3. Maths and broadcasting\n",
    "\n",
    "Variable support all the common mathematics operations and functions; like <a href=https://xtensor.readthedocs.io/en/latest/expression.html>xtensor</a>, these operations are lazy and return expressions. `xframe` supports operations on variables with different dimensions and labels thanks to broadcasting. This one is performed according the dimension names rather than the dimension positions as shown below.\n",
    "\n",
    "Let's first define a variable containing the relative humidity for cities:"
   ]
  },
  {
   "cell_type": "code",
   "execution_count": null,
   "metadata": {},
   "outputs": [],
   "source": [
    "data_type relative_humidity_data = xt::eval(xt::random::rand({3}, 50.0, 70.0));\n",
    "\n",
    "auto relative_humidity = variable_type(\n",
    "    relative_humidity_data,\n",
    "    {\n",
    "        {\"city\", xf::axis({\"Paris\", \"London\", \"Brussels\"})}\n",
    "    }\n",
    ");\n",
    "\n",
    "relative_humidity"
   ]
  },
  {
   "cell_type": "markdown",
   "metadata": {},
   "source": [
    "We will use it and the previously defined `dry_temperature` variable (that we show again below) to compute the water_pour_pressure"
   ]
  },
  {
   "cell_type": "code",
   "execution_count": null,
   "metadata": {},
   "outputs": [],
   "source": [
    "dry_temperature"
   ]
  },
  {
   "cell_type": "code",
   "execution_count": null,
   "metadata": {},
   "outputs": [],
   "source": [
    "auto water_vapour_pressure = 0.01 * relative_humidity * 6.1 * xt::exp((17.27 * dry_temperature) / (237.7 + dry_temperature));"
   ]
  },
  {
   "cell_type": "code",
   "execution_count": null,
   "metadata": {},
   "outputs": [],
   "source": [
    "water_vapour_pressure"
   ]
  },
  {
   "cell_type": "markdown",
   "metadata": {},
   "source": [
    "The relative humidity has been broadcasted so its values are repeated for each date.\n",
    "When the labels of variables involved in an operation are not the same, the result contains the *intersection* of the label sets:"
   ]
  },
  {
   "cell_type": "code",
   "execution_count": null,
   "metadata": {},
   "outputs": [],
   "source": [
    "data_type coeff_data = xt::eval(xt::random::rand({6, 3}, 0.7, 0.9));\n",
    "dry_temperature_data(0, 0).has_value() = false;\n",
    "dry_temperature_data(2, 1).has_value() = false;\n",
    "\n",
    "auto coeff = variable_type(\n",
    "    coeff_data,\n",
    "    {\n",
    "        {\"date\", time_axis},\n",
    "        {\"city\", xf::axis({\"London\", \"New York\", \"Brussels\"})}\n",
    "    }\n",
    ");\n",
    "coeff"
   ]
  },
  {
   "cell_type": "code",
   "execution_count": null,
   "metadata": {},
   "outputs": [],
   "source": [
    "auto res = coeff * dry_temperature;\n",
    "res"
   ]
  },
  {
   "cell_type": "markdown",
   "metadata": {},
   "source": [
    "## 1.4. Higher dimension variables\n",
    "\n",
    "The following code creates and displays a three-dimensional variable."
   ]
  },
  {
   "cell_type": "code",
   "execution_count": null,
   "metadata": {},
   "outputs": [],
   "source": [
    "data_type pressure_data = {{{ 1.,  2., 3. },\n",
    "                            { 4.,  5., 6. },\n",
    "                            { 7.,  8., 9. }},\n",
    "                           {{ 1.3, 1.5, 1.},\n",
    "                            { 2., 2.3, 2.4},\n",
    "                            { 3.1, 3.8, 3.}},\n",
    "                           {{ 8.5, 8.2, 8.6},\n",
    "                            { 7.5, 8.6, 9.7},\n",
    "                            { 4.5, 4.4, 4.3}}};"
   ]
  },
  {
   "cell_type": "code",
   "execution_count": null,
   "metadata": {},
   "outputs": [],
   "source": [
    "auto pressure = variable_type(\n",
    "    pressure_data,\n",
    "    {\n",
    "        {\"x\", xf::axis(3)},\n",
    "        {\"y\", xf::axis(3, 6, 1)},\n",
    "        {\"z\", xf::axis(3)},\n",
    "    }\n",
    ");"
   ]
  },
  {
   "cell_type": "code",
   "execution_count": null,
   "metadata": {},
   "outputs": [],
   "source": [
    "pressure"
   ]
  },
  {
   "cell_type": "markdown",
   "metadata": {},
   "source": [
    "# 2. Views"
   ]
  },
  {
   "cell_type": "markdown",
   "metadata": {},
   "source": [
    "## 2.1. Multiselection\n",
    "\n",
    "Views can be used to select many data points in a variable. The syntax is similar to the one used for selecting a single data point, excpet that it uses free functions instead of methods of variable."
   ]
  },
  {
   "cell_type": "code",
   "execution_count": null,
   "metadata": {},
   "outputs": [],
   "source": [
    "dry_temperature"
   ]
  },
  {
   "cell_type": "markdown",
   "metadata": {},
   "source": [
    "**Dimension lookup:** Positional - **Index lookup:** By integer"
   ]
  },
  {
   "cell_type": "code",
   "execution_count": null,
   "metadata": {},
   "outputs": [],
   "source": [
    "auto v1 = ilocate(dry_temperature, xf::irange(0, 5, 2), xf::irange(1, 3));\n",
    "v1"
   ]
  },
  {
   "cell_type": "markdown",
   "metadata": {},
   "source": [
    "**Dimension lookup:** Positional - **Index lookup:** By label"
   ]
  },
  {
   "cell_type": "code",
   "execution_count": null,
   "metadata": {},
   "outputs": [],
   "source": [
    "auto v2 = locate(dry_temperature, xf::range(\"2018-01-01\", \"2018-01-06\", 2), xf::range(\"Paris\", \"Brussels\"));\n",
    "v2"
   ]
  },
  {
   "cell_type": "markdown",
   "metadata": {},
   "source": [
    "**Dimension lookup:** By name - **Index lookup:** By integer"
   ]
  },
  {
   "cell_type": "code",
   "execution_count": null,
   "metadata": {},
   "outputs": [],
   "source": [
    "auto v3 = iselect(dry_temperature, {{\"city\", xf::irange(1, 3)}, {\"date\", xf::irange(0, 5, 2)}});\n",
    "v3"
   ]
  },
  {
   "cell_type": "markdown",
   "metadata": {},
   "source": [
    "**Dimension lookup:** By name - **Index lookup:** By label"
   ]
  },
  {
   "cell_type": "code",
   "execution_count": null,
   "metadata": {},
   "outputs": [],
   "source": [
    "auto v4 = select(dry_temperature, \n",
    "                 {{\"city\", xf::range(\"Paris\", \"Brussels\")},\n",
    "                  {\"date\", xf::range(\"2018-01-01\", \"2018-01-06\", 2)}});\n",
    "v4"
   ]
  },
  {
   "cell_type": "markdown",
   "metadata": {},
   "source": [
    "## 2.2. Keeping and dropping labels\n",
    "\n",
    "The previous selection made use of ranges (label range from `xframe` and index range from `xtensor`), however it is also possible to select data points by explicitly specifying a list of labels to keep or to drop."
   ]
  },
  {
   "cell_type": "markdown",
   "metadata": {},
   "source": [
    "**Dimension lookup:** Positional - **Index lookup:** By integer"
   ]
  },
  {
   "cell_type": "code",
   "execution_count": null,
   "metadata": {},
   "outputs": [],
   "source": [
    "auto v5 = ilocate(dry_temperature, xf::ikeep(0, 2, 4), xf::idrop(0));\n",
    "v5"
   ]
  },
  {
   "cell_type": "markdown",
   "metadata": {},
   "source": [
    "**Dimension lookup:** By name - **Index lookup:** By integer"
   ]
  },
  {
   "cell_type": "code",
   "execution_count": null,
   "metadata": {},
   "outputs": [],
   "source": [
    "auto v6 = locate(dry_temperature, xf::keep(\"2018-01-01\", \"2018-01-03\", \"2018-01-05\"), xf::drop(\"London\"));\n",
    "v6"
   ]
  },
  {
   "cell_type": "markdown",
   "metadata": {},
   "source": [
    "**Dimension lookup:** By name - **Index lookup:** By integer"
   ]
  },
  {
   "cell_type": "code",
   "execution_count": null,
   "metadata": {},
   "outputs": [],
   "source": [
    "auto v7 = iselect(dry_temperature, {{\"city\", xf::idrop(0)}, {\"date\", xf::ikeep(0, 2, 4)}});\n",
    "v7"
   ]
  },
  {
   "cell_type": "markdown",
   "metadata": {},
   "source": [
    "**Dimension lookup:** By name - **Index lookup:** By label"
   ]
  },
  {
   "cell_type": "code",
   "execution_count": null,
   "metadata": {},
   "outputs": [],
   "source": [
    "auto v8 = select(dry_temperature,\n",
    "                 {{\"city\", xf::drop(\"London\")},\n",
    "                  {\"date\", xf::keep(\"2018-01-01\", \"2018-01-03\", \"2018-01-05\")}});\n",
    "v8"
   ]
  },
  {
   "cell_type": "markdown",
   "metadata": {},
   "source": [
    "## 2.3 Masking views\n",
    "\n",
    "Masking views allow to select data points based on conditions expressed on labels. These conditons can be complicated boolean expressions."
   ]
  },
  {
   "cell_type": "code",
   "execution_count": null,
   "metadata": {},
   "outputs": [],
   "source": [
    "pressure"
   ]
  },
  {
   "cell_type": "code",
   "execution_count": null,
   "metadata": {},
   "outputs": [],
   "source": [
    "auto masked_pressure = xf::where(\n",
    "    pressure,\n",
    "    not_equal(pressure.axis<int>(\"x\"), 2) && pressure.axis<int>(\"z\") < 2\n",
    ");"
   ]
  },
  {
   "cell_type": "code",
   "execution_count": null,
   "metadata": {},
   "outputs": [],
   "source": [
    "masked_pressure"
   ]
  },
  {
   "cell_type": "markdown",
   "metadata": {},
   "source": [
    "When assigning to a masking view, masked values are not changed. Like other views, a masking view is a proxy on its junderlying expression, no copy is made, so changing a unmasked value actually changes the corresponding value in the underlying expression."
   ]
  },
  {
   "cell_type": "code",
   "execution_count": null,
   "metadata": {},
   "outputs": [],
   "source": [
    "masked_pressure = 1.;\n",
    "masked_pressure"
   ]
  },
  {
   "cell_type": "code",
   "execution_count": null,
   "metadata": {},
   "outputs": [],
   "source": [
    "pressure"
   ]
  },
  {
   "cell_type": "markdown",
   "metadata": {},
   "source": [
    "## 2.4 Reindexing views\n",
    "\n",
    "Reindexing views give variables new set of coordinates to corresponding dimensions. Like other views, no copy is involved. Asking for values corresponding to new labels not found in the original set of coordinates returns missing values. In the next example, we reindex the `city` dimension."
   ]
  },
  {
   "cell_type": "code",
   "execution_count": null,
   "metadata": {},
   "outputs": [],
   "source": [
    "dry_temperature"
   ]
  },
  {
   "cell_type": "code",
   "execution_count": null,
   "metadata": {
    "scrolled": true
   },
   "outputs": [],
   "source": [
    "auto temp = reindex(dry_temperature, {{\"city\", xf::axis({\"London\", \"New York\", \"Brussels\"})}});\n",
    "temp"
   ]
  },
  {
   "cell_type": "markdown",
   "metadata": {},
   "source": [
    "The `reindex_like` is a shortcut that allows to reindex a variable given the set of coordinates of another variable"
   ]
  },
  {
   "cell_type": "code",
   "execution_count": null,
   "metadata": {},
   "outputs": [],
   "source": [
    "auto dry_temp2 = variable_type(\n",
    "    dry_temperature_data,\n",
    "    {\n",
    "        {\"date\", time_axis},\n",
    "        {\"city\", xf::axis({\"London\", \"New York\", \"Brussels\"})}\n",
    "    }\n",
    ");\n",
    "auto temp2 = reindex_like(dry_temperature, dry_temp2);\n",
    "temp2"
   ]
  },
  {
   "cell_type": "code",
   "execution_count": null,
   "metadata": {},
   "outputs": [],
   "source": []
  }
 ],
 "metadata": {
  "kernelspec": {
   "display_name": "C++14",
   "language": "C++14",
   "name": "xcpp14"
  },
  "language_info": {
   "codemirror_mode": "text/x-c++src",
   "file_extension": ".cpp",
   "mimetype": "text/x-c++src",
   "name": "c++",
   "version": "-std=c++14"
  }
 },
 "nbformat": 4,
 "nbformat_minor": 2
}
